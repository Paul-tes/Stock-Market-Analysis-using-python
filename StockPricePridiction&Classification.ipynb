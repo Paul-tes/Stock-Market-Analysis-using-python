{
 "cells": [
  {
   "cell_type": "markdown",
   "id": "7405994f-68e5-4593-8f37-a5c2d81311ad",
   "metadata": {},
   "source": [
    "# Stoce Price Pridiction model"
   ]
  },
  {
   "cell_type": "markdown",
   "id": "32ca0e97-b53b-4341-9b03-3b775b664439",
   "metadata": {},
   "source": [
    "### install depenecies"
   ]
  },
  {
   "cell_type": "code",
   "execution_count": 524,
   "id": "af1bc562-3555-4039-aba2-9a04d61d2110",
   "metadata": {},
   "outputs": [],
   "source": [
    "\n",
    "import numpy as np # for effective data managements\n",
    "import pandas as pd # for managing the datas\n",
    "from sklearn.tree import DecisionTreeRegressor # for using decision tree regressor model\n",
    "from sklearn.linear_model import LinearRegression # for using linear regression model\n",
    "from sklearn.model_selection import train_test_split # for to split the data effectivly\n",
    "import matplotlib.pyplot as plt # graph visualization\n",
    "from sklearn.tree import DecisionTreeClassifier # for the classification purpose\n",
    "from sklearn.metrics import classification_report # used to mesure the prediction"
   ]
  },
  {
   "cell_type": "markdown",
   "id": "3b454242-7db6-4a09-891c-f6112d94ace2",
   "metadata": {},
   "source": [
    "### load data in to pandas data frame"
   ]
  },
  {
   "cell_type": "code",
   "execution_count": 481,
   "id": "330117aa-aa48-4efe-ac06-49a8b3024ee7",
   "metadata": {},
   "outputs": [],
   "source": [
    "df = pd.read_csv('ADP.csv') # read the data from the local folder"
   ]
  },
  {
   "cell_type": "code",
   "execution_count": 482,
   "id": "1bf56a49-e437-4295-8c29-684c64f4989d",
   "metadata": {},
   "outputs": [
    {
     "data": {
      "text/html": [
       "<div>\n",
       "<style scoped>\n",
       "    .dataframe tbody tr th:only-of-type {\n",
       "        vertical-align: middle;\n",
       "    }\n",
       "\n",
       "    .dataframe tbody tr th {\n",
       "        vertical-align: top;\n",
       "    }\n",
       "\n",
       "    .dataframe thead th {\n",
       "        text-align: right;\n",
       "    }\n",
       "</style>\n",
       "<table border=\"1\" class=\"dataframe\">\n",
       "  <thead>\n",
       "    <tr style=\"text-align: right;\">\n",
       "      <th></th>\n",
       "      <th>Date</th>\n",
       "      <th>Low</th>\n",
       "      <th>Open</th>\n",
       "      <th>Volume</th>\n",
       "      <th>High</th>\n",
       "      <th>Close</th>\n",
       "      <th>Adjusted Close</th>\n",
       "    </tr>\n",
       "  </thead>\n",
       "  <tbody>\n",
       "    <tr>\n",
       "      <th>0</th>\n",
       "      <td>17-03-1980</td>\n",
       "      <td>0.808554</td>\n",
       "      <td>0.0</td>\n",
       "      <td>1158040</td>\n",
       "      <td>0.827141</td>\n",
       "      <td>0.817847</td>\n",
       "      <td>0.418825</td>\n",
       "    </tr>\n",
       "    <tr>\n",
       "      <th>1</th>\n",
       "      <td>18-03-1980</td>\n",
       "      <td>0.814749</td>\n",
       "      <td>0.0</td>\n",
       "      <td>1622063</td>\n",
       "      <td>0.830239</td>\n",
       "      <td>0.827141</td>\n",
       "      <td>0.423584</td>\n",
       "    </tr>\n",
       "    <tr>\n",
       "      <th>2</th>\n",
       "      <td>19-03-1980</td>\n",
       "      <td>0.827141</td>\n",
       "      <td>0.0</td>\n",
       "      <td>1367859</td>\n",
       "      <td>0.842631</td>\n",
       "      <td>0.842631</td>\n",
       "      <td>0.431517</td>\n",
       "    </tr>\n",
       "    <tr>\n",
       "      <th>3</th>\n",
       "      <td>20-03-1980</td>\n",
       "      <td>0.839533</td>\n",
       "      <td>0.0</td>\n",
       "      <td>3046412</td>\n",
       "      <td>0.861218</td>\n",
       "      <td>0.839533</td>\n",
       "      <td>0.429931</td>\n",
       "    </tr>\n",
       "    <tr>\n",
       "      <th>4</th>\n",
       "      <td>21-03-1980</td>\n",
       "      <td>0.836435</td>\n",
       "      <td>0.0</td>\n",
       "      <td>1020851</td>\n",
       "      <td>0.848826</td>\n",
       "      <td>0.836435</td>\n",
       "      <td>0.428344</td>\n",
       "    </tr>\n",
       "  </tbody>\n",
       "</table>\n",
       "</div>"
      ],
      "text/plain": [
       "         Date       Low  Open   Volume      High     Close  Adjusted Close\n",
       "0  17-03-1980  0.808554   0.0  1158040  0.827141  0.817847        0.418825\n",
       "1  18-03-1980  0.814749   0.0  1622063  0.830239  0.827141        0.423584\n",
       "2  19-03-1980  0.827141   0.0  1367859  0.842631  0.842631        0.431517\n",
       "3  20-03-1980  0.839533   0.0  3046412  0.861218  0.839533        0.429931\n",
       "4  21-03-1980  0.836435   0.0  1020851  0.848826  0.836435        0.428344"
      ]
     },
     "execution_count": 482,
     "metadata": {},
     "output_type": "execute_result"
    }
   ],
   "source": [
    "df.head()"
   ]
  },
  {
   "cell_type": "markdown",
   "id": "978f648a-70fe-4bc6-b42e-f25ea9cd641c",
   "metadata": {},
   "source": [
    "## **Data Preprocessing**"
   ]
  },
  {
   "cell_type": "markdown",
   "id": "c06a0f86-ebbd-499a-82a0-80b85e869189",
   "metadata": {},
   "source": [
    "-  **checking missing data**"
   ]
  },
  {
   "cell_type": "code",
   "execution_count": 483,
   "id": "c7509628-2828-458b-a38a-fa9227d388d6",
   "metadata": {},
   "outputs": [
    {
     "data": {
      "text/plain": [
       "Date              0\n",
       "Low               0\n",
       "Open              0\n",
       "Volume            0\n",
       "High              0\n",
       "Close             0\n",
       "Adjusted Close    0\n",
       "dtype: int64"
      ]
     },
     "execution_count": 483,
     "metadata": {},
     "output_type": "execute_result"
    }
   ],
   "source": [
    "pd.isnull(df).sum() "
   ]
  },
  {
   "cell_type": "code",
   "execution_count": 484,
   "id": "0a85d565-0a57-44ee-9ac0-d810ffd4d443",
   "metadata": {},
   "outputs": [
    {
     "data": {
      "text/plain": [
       "Date              10778\n",
       "Low               10778\n",
       "Open              10778\n",
       "Volume            10778\n",
       "High              10778\n",
       "Close             10778\n",
       "Adjusted Close    10778\n",
       "dtype: int64"
      ]
     },
     "execution_count": 484,
     "metadata": {},
     "output_type": "execute_result"
    }
   ],
   "source": [
    "pd.notnull(df).sum()"
   ]
  },
  {
   "cell_type": "markdown",
   "id": "c22db86d-9585-42fb-a633-cf34e05c8330",
   "metadata": {},
   "source": [
    "no missing data\n",
    "\n",
    "- **checking duplication of of record**"
   ]
  },
  {
   "cell_type": "code",
   "execution_count": 485,
   "id": "6504cfad-3a43-4cd0-97b8-bf4e33a0b10a",
   "metadata": {},
   "outputs": [
    {
     "data": {
      "text/plain": [
       "0"
      ]
     },
     "execution_count": 485,
     "metadata": {},
     "output_type": "execute_result"
    }
   ],
   "source": [
    "df.duplicated().sum()"
   ]
  },
  {
   "cell_type": "markdown",
   "id": "d801fc17-61ba-4989-ac1e-8761c4e32fab",
   "metadata": {},
   "source": [
    "no duplicated records\n",
    "\n",
    "- **managing data types**"
   ]
  },
  {
   "cell_type": "code",
   "execution_count": 486,
   "id": "51f6f6ac-65f8-40c8-9bcb-32a850250a4b",
   "metadata": {},
   "outputs": [
    {
     "name": "stdout",
     "output_type": "stream",
     "text": [
      "<class 'pandas.core.frame.DataFrame'>\n",
      "RangeIndex: 10778 entries, 0 to 10777\n",
      "Data columns (total 7 columns):\n",
      " #   Column          Non-Null Count  Dtype  \n",
      "---  ------          --------------  -----  \n",
      " 0   Date            10778 non-null  object \n",
      " 1   Low             10778 non-null  float64\n",
      " 2   Open            10778 non-null  float64\n",
      " 3   Volume          10778 non-null  int64  \n",
      " 4   High            10778 non-null  float64\n",
      " 5   Close           10778 non-null  float64\n",
      " 6   Adjusted Close  10778 non-null  float64\n",
      "dtypes: float64(5), int64(1), object(1)\n",
      "memory usage: 589.5+ KB\n"
     ]
    }
   ],
   "source": [
    "df.info() # look at the data information"
   ]
  },
  {
   "cell_type": "code",
   "execution_count": 487,
   "id": "1bff4243-fc48-4feb-b767-42a8115efa52",
   "metadata": {},
   "outputs": [
    {
     "name": "stderr",
     "output_type": "stream",
     "text": [
      "/tmp/ipykernel_56984/1701485851.py:1: UserWarning: Parsing dates in DD/MM/YYYY format when dayfirst=False (the default) was specified. This may lead to inconsistently parsed dates! Specify a format to ensure consistent parsing.\n",
      "  df['Date'] = pd.to_datetime(df['Date']) # changing the Date object into datetime64[ns] format.\n"
     ]
    }
   ],
   "source": [
    "df['Date'] = pd.to_datetime(df['Date']) # changing the Date object into datetime64[ns] format."
   ]
  },
  {
   "cell_type": "code",
   "execution_count": 488,
   "id": "ac334ad0-98e8-4d4f-95e5-c51719124b91",
   "metadata": {},
   "outputs": [
    {
     "name": "stdout",
     "output_type": "stream",
     "text": [
      "<class 'pandas.core.frame.DataFrame'>\n",
      "RangeIndex: 10778 entries, 0 to 10777\n",
      "Data columns (total 7 columns):\n",
      " #   Column          Non-Null Count  Dtype         \n",
      "---  ------          --------------  -----         \n",
      " 0   Date            10778 non-null  datetime64[ns]\n",
      " 1   Low             10778 non-null  float64       \n",
      " 2   Open            10778 non-null  float64       \n",
      " 3   Volume          10778 non-null  int64         \n",
      " 4   High            10778 non-null  float64       \n",
      " 5   Close           10778 non-null  float64       \n",
      " 6   Adjusted Close  10778 non-null  float64       \n",
      "dtypes: datetime64[ns](1), float64(5), int64(1)\n",
      "memory usage: 589.5 KB\n"
     ]
    }
   ],
   "source": [
    "df.info()"
   ]
  },
  {
   "cell_type": "code",
   "execution_count": 489,
   "id": "187d2243-b81f-4e21-85dd-8ba39886baec",
   "metadata": {},
   "outputs": [],
   "source": [
    "df['Day'] = df['Date'].dt.day\n",
    "df['Month'] = df['Date'].dt.month\n",
    "df['Year'] = df['Date'].dt.year"
   ]
  },
  {
   "cell_type": "code",
   "execution_count": 490,
   "id": "50795070-a7bc-4eac-b5b0-0069af97fc1c",
   "metadata": {},
   "outputs": [
    {
     "data": {
      "text/html": [
       "<div>\n",
       "<style scoped>\n",
       "    .dataframe tbody tr th:only-of-type {\n",
       "        vertical-align: middle;\n",
       "    }\n",
       "\n",
       "    .dataframe tbody tr th {\n",
       "        vertical-align: top;\n",
       "    }\n",
       "\n",
       "    .dataframe thead th {\n",
       "        text-align: right;\n",
       "    }\n",
       "</style>\n",
       "<table border=\"1\" class=\"dataframe\">\n",
       "  <thead>\n",
       "    <tr style=\"text-align: right;\">\n",
       "      <th></th>\n",
       "      <th>Date</th>\n",
       "      <th>Low</th>\n",
       "      <th>Open</th>\n",
       "      <th>Volume</th>\n",
       "      <th>High</th>\n",
       "      <th>Close</th>\n",
       "      <th>Adjusted Close</th>\n",
       "      <th>Day</th>\n",
       "      <th>Month</th>\n",
       "      <th>Year</th>\n",
       "    </tr>\n",
       "  </thead>\n",
       "  <tbody>\n",
       "    <tr>\n",
       "      <th>0</th>\n",
       "      <td>1980-03-17</td>\n",
       "      <td>0.808554</td>\n",
       "      <td>0.0</td>\n",
       "      <td>1158040</td>\n",
       "      <td>0.827141</td>\n",
       "      <td>0.817847</td>\n",
       "      <td>0.418825</td>\n",
       "      <td>17</td>\n",
       "      <td>3</td>\n",
       "      <td>1980</td>\n",
       "    </tr>\n",
       "    <tr>\n",
       "      <th>1</th>\n",
       "      <td>1980-03-18</td>\n",
       "      <td>0.814749</td>\n",
       "      <td>0.0</td>\n",
       "      <td>1622063</td>\n",
       "      <td>0.830239</td>\n",
       "      <td>0.827141</td>\n",
       "      <td>0.423584</td>\n",
       "      <td>18</td>\n",
       "      <td>3</td>\n",
       "      <td>1980</td>\n",
       "    </tr>\n",
       "    <tr>\n",
       "      <th>2</th>\n",
       "      <td>1980-03-19</td>\n",
       "      <td>0.827141</td>\n",
       "      <td>0.0</td>\n",
       "      <td>1367859</td>\n",
       "      <td>0.842631</td>\n",
       "      <td>0.842631</td>\n",
       "      <td>0.431517</td>\n",
       "      <td>19</td>\n",
       "      <td>3</td>\n",
       "      <td>1980</td>\n",
       "    </tr>\n",
       "    <tr>\n",
       "      <th>3</th>\n",
       "      <td>1980-03-20</td>\n",
       "      <td>0.839533</td>\n",
       "      <td>0.0</td>\n",
       "      <td>3046412</td>\n",
       "      <td>0.861218</td>\n",
       "      <td>0.839533</td>\n",
       "      <td>0.429931</td>\n",
       "      <td>20</td>\n",
       "      <td>3</td>\n",
       "      <td>1980</td>\n",
       "    </tr>\n",
       "    <tr>\n",
       "      <th>4</th>\n",
       "      <td>1980-03-21</td>\n",
       "      <td>0.836435</td>\n",
       "      <td>0.0</td>\n",
       "      <td>1020851</td>\n",
       "      <td>0.848826</td>\n",
       "      <td>0.836435</td>\n",
       "      <td>0.428344</td>\n",
       "      <td>21</td>\n",
       "      <td>3</td>\n",
       "      <td>1980</td>\n",
       "    </tr>\n",
       "  </tbody>\n",
       "</table>\n",
       "</div>"
      ],
      "text/plain": [
       "        Date       Low  Open   Volume      High     Close  Adjusted Close  \\\n",
       "0 1980-03-17  0.808554   0.0  1158040  0.827141  0.817847        0.418825   \n",
       "1 1980-03-18  0.814749   0.0  1622063  0.830239  0.827141        0.423584   \n",
       "2 1980-03-19  0.827141   0.0  1367859  0.842631  0.842631        0.431517   \n",
       "3 1980-03-20  0.839533   0.0  3046412  0.861218  0.839533        0.429931   \n",
       "4 1980-03-21  0.836435   0.0  1020851  0.848826  0.836435        0.428344   \n",
       "\n",
       "   Day  Month  Year  \n",
       "0   17      3  1980  \n",
       "1   18      3  1980  \n",
       "2   19      3  1980  \n",
       "3   20      3  1980  \n",
       "4   21      3  1980  "
      ]
     },
     "execution_count": 490,
     "metadata": {},
     "output_type": "execute_result"
    }
   ],
   "source": [
    "df.head()"
   ]
  },
  {
   "cell_type": "code",
   "execution_count": 491,
   "id": "6947624b-75ae-4ecc-9b41-d8796a0c6bc5",
   "metadata": {},
   "outputs": [],
   "source": [
    "df = df[['Date', 'Day', 'Month', 'Year', 'Low', 'Open', 'Volume', 'High', 'Close', 'Adjusted Close']]"
   ]
  },
  {
   "cell_type": "code",
   "execution_count": 492,
   "id": "c0d2ee0d-9f69-4052-9081-8d75112af0d5",
   "metadata": {},
   "outputs": [],
   "source": [
    "Pdf = df;"
   ]
  },
  {
   "cell_type": "code",
   "execution_count": 493,
   "id": "d9f3a6ba-8e06-4779-9e36-b02ad084f443",
   "metadata": {},
   "outputs": [],
   "source": [
    "df = Pdf;"
   ]
  },
  {
   "cell_type": "markdown",
   "id": "b043ab5a-c8c0-40de-adbe-54a5ffa9b7cb",
   "metadata": {},
   "source": [
    "# Regression Analysis using DecisionTreeRegressor and LinearRegression"
   ]
  },
  {
   "cell_type": "markdown",
   "id": "94bec93c-690b-41e5-a949-ee683166a8d5",
   "metadata": {},
   "source": [
    "visualizing the close price."
   ]
  },
  {
   "cell_type": "code",
   "execution_count": 494,
   "id": "f55b68cb-2e2a-4c96-9140-5b92d370c6e8",
   "metadata": {},
   "outputs": [
    {
     "data": {
      "image/png": "[encoded data removed]",
      "text/plain": [
       "<Figure size 1600x800 with 1 Axes>"
      ]
     },
     "metadata": {},
     "output_type": "display_data"
    }
   ],
   "source": [
    "plt.figure(figsize=(16, 8))\n",
    "plt.title(\"ADP StocK Close Price\")\n",
    "plt.xlabel('Days')\n",
    "plt.ylabel('Close Price in USD$M')\n",
    "plt.plot(df['Close'])\n",
    "plt.show()"
   ]
  },
  {
   "cell_type": "code",
   "execution_count": 495,
   "id": "21143b36-465c-4541-8330-1f135820b6bb",
   "metadata": {},
   "outputs": [
    {
     "data": {
      "text/html": [
       "<div>\n",
       "<style scoped>\n",
       "    .dataframe tbody tr th:only-of-type {\n",
       "        vertical-align: middle;\n",
       "    }\n",
       "\n",
       "    .dataframe tbody tr th {\n",
       "        vertical-align: top;\n",
       "    }\n",
       "\n",
       "    .dataframe thead th {\n",
       "        text-align: right;\n",
       "    }\n",
       "</style>\n",
       "<table border=\"1\" class=\"dataframe\">\n",
       "  <thead>\n",
       "    <tr style=\"text-align: right;\">\n",
       "      <th></th>\n",
       "      <th>Close</th>\n",
       "    </tr>\n",
       "  </thead>\n",
       "  <tbody>\n",
       "    <tr>\n",
       "      <th>0</th>\n",
       "      <td>0.817847</td>\n",
       "    </tr>\n",
       "    <tr>\n",
       "      <th>1</th>\n",
       "      <td>0.827141</td>\n",
       "    </tr>\n",
       "    <tr>\n",
       "      <th>2</th>\n",
       "      <td>0.842631</td>\n",
       "    </tr>\n",
       "  </tbody>\n",
       "</table>\n",
       "</div>"
      ],
      "text/plain": [
       "      Close\n",
       "0  0.817847\n",
       "1  0.827141\n",
       "2  0.842631"
      ]
     },
     "execution_count": 495,
     "metadata": {},
     "output_type": "execute_result"
    }
   ],
   "source": [
    "# get the only close price\n",
    "df = df[['Close']]\n",
    "df.head(3) # head of 3 close prices."
   ]
  },
  {
   "cell_type": "code",
   "execution_count": 496,
   "id": "cd6d6b1c-0797-4eb0-b489-5bc89838fa4a",
   "metadata": {},
   "outputs": [
    {
     "data": {
      "text/html": [
       "<div>\n",
       "<style scoped>\n",
       "    .dataframe tbody tr th:only-of-type {\n",
       "        vertical-align: middle;\n",
       "    }\n",
       "\n",
       "    .dataframe tbody tr th {\n",
       "        vertical-align: top;\n",
       "    }\n",
       "\n",
       "    .dataframe thead th {\n",
       "        text-align: right;\n",
       "    }\n",
       "</style>\n",
       "<table border=\"1\" class=\"dataframe\">\n",
       "  <thead>\n",
       "    <tr style=\"text-align: right;\">\n",
       "      <th></th>\n",
       "      <th>Close</th>\n",
       "    </tr>\n",
       "  </thead>\n",
       "  <tbody>\n",
       "    <tr>\n",
       "      <th>10775</th>\n",
       "      <td>260.049988</td>\n",
       "    </tr>\n",
       "    <tr>\n",
       "      <th>10776</th>\n",
       "      <td>257.200012</td>\n",
       "    </tr>\n",
       "    <tr>\n",
       "      <th>10777</th>\n",
       "      <td>261.234985</td>\n",
       "    </tr>\n",
       "  </tbody>\n",
       "</table>\n",
       "</div>"
      ],
      "text/plain": [
       "            Close\n",
       "10775  260.049988\n",
       "10776  257.200012\n",
       "10777  261.234985"
      ]
     },
     "execution_count": 496,
     "metadata": {},
     "output_type": "execute_result"
    }
   ],
   "source": [
    "df.tail(3) # tail of 3 close prices."
   ]
  },
  {
   "cell_type": "code",
   "execution_count": 497,
   "id": "ffd14b44-0c04-4c58-830b-26010191c51e",
   "metadata": {},
   "outputs": [
    {
     "name": "stdout",
     "output_type": "stream",
     "text": [
      "1197  used to pridict the futre close price\n"
     ]
    },
    {
     "name": "stderr",
     "output_type": "stream",
     "text": [
      "/tmp/ipykernel_56984/2242213286.py:7: SettingWithCopyWarning: \n",
      "A value is trying to be set on a copy of a slice from a DataFrame.\n",
      "Try using .loc[row_indexer,col_indexer] = value instead\n",
      "\n",
      "See the caveats in the documentation: https://pandas.pydata.org/pandas-docs/stable/user_guide/indexing.html#returning-a-view-versus-a-copy\n",
      "  df['Pridiction'] = df[['Close']].shift(-future_days) # create a new new Pridiction Column with out the last n days.\n"
     ]
    },
    {
     "data": {
      "text/html": [
       "<div>\n",
       "<style scoped>\n",
       "    .dataframe tbody tr th:only-of-type {\n",
       "        vertical-align: middle;\n",
       "    }\n",
       "\n",
       "    .dataframe tbody tr th {\n",
       "        vertical-align: top;\n",
       "    }\n",
       "\n",
       "    .dataframe thead th {\n",
       "        text-align: right;\n",
       "    }\n",
       "</style>\n",
       "<table border=\"1\" class=\"dataframe\">\n",
       "  <thead>\n",
       "    <tr style=\"text-align: right;\">\n",
       "      <th></th>\n",
       "      <th>Close</th>\n",
       "      <th>Pridiction</th>\n",
       "    </tr>\n",
       "  </thead>\n",
       "  <tbody>\n",
       "    <tr>\n",
       "      <th>10773</th>\n",
       "      <td>258.529999</td>\n",
       "      <td>NaN</td>\n",
       "    </tr>\n",
       "    <tr>\n",
       "      <th>10774</th>\n",
       "      <td>259.220001</td>\n",
       "      <td>NaN</td>\n",
       "    </tr>\n",
       "    <tr>\n",
       "      <th>10775</th>\n",
       "      <td>260.049988</td>\n",
       "      <td>NaN</td>\n",
       "    </tr>\n",
       "    <tr>\n",
       "      <th>10776</th>\n",
       "      <td>257.200012</td>\n",
       "      <td>NaN</td>\n",
       "    </tr>\n",
       "    <tr>\n",
       "      <th>10777</th>\n",
       "      <td>261.234985</td>\n",
       "      <td>NaN</td>\n",
       "    </tr>\n",
       "  </tbody>\n",
       "</table>\n",
       "</div>"
      ],
      "text/plain": [
       "            Close  Pridiction\n",
       "10773  258.529999         NaN\n",
       "10774  259.220001         NaN\n",
       "10775  260.049988         NaN\n",
       "10776  257.200012         NaN\n",
       "10777  261.234985         NaN"
      ]
     },
     "execution_count": 497,
     "metadata": {},
     "output_type": "execute_result"
    }
   ],
   "source": [
    "# create a variable to pridict 'n' days out in to the future.\n",
    "rows = len(df.axes[0])\n",
    "# get 10% of the total days out. assume it is the futre.\n",
    "future_days = rows // 9\n",
    "print(future_days, \" used to pridict the futre close price\")\n",
    "# create a new column (target) shifted n days up\n",
    "df['Pridiction'] = df[['Close']].shift(-future_days) # create a new new Pridiction Column with out the last n days.\n",
    "df.tail(5)"
   ]
  },
  {
   "cell_type": "code",
   "execution_count": 498,
   "id": "b3f952cd-c7b1-41c1-87d4-eb8aa5a7a3b0",
   "metadata": {},
   "outputs": [
    {
     "name": "stderr",
     "output_type": "stream",
     "text": [
      "/tmp/ipykernel_56984/3452656252.py:2: FutureWarning: In a future version of pandas all arguments of DataFrame.drop except for the argument 'labels' will be keyword-only.\n",
      "  F = np.array(df.drop(['Pridiction'], 1))[:-future_days]\n"
     ]
    }
   ],
   "source": [
    "# create the futre data set (F) and convert into numpy array with out the futre_days of days. \n",
    "F = np.array(df.drop(['Pridiction'], 1))[:-future_days]"
   ]
  },
  {
   "cell_type": "code",
   "execution_count": 499,
   "id": "9eae620c-4b96-4710-a267-d623a96764cb",
   "metadata": {},
   "outputs": [],
   "source": [
    "# create the target data set (T) and convert into nmpy array execpt the last future_days of days.\n",
    "T = np.array(df['Pridiction'])[:-future_days]"
   ]
  },
  {
   "cell_type": "code",
   "execution_count": 512,
   "id": "4398d3c9-4b0e-4c68-8399-f5596f1f345b",
   "metadata": {},
   "outputs": [
    {
     "name": "stdout",
     "output_type": "stream",
     "text": [
      "(7664, 1)\n",
      "(1917, 1)\n",
      "(7664,)\n",
      "(1917,)\n"
     ]
    }
   ],
   "source": [
    "# Split the data in to 80% for training and 20% for testing \n",
    "f_train, f_test, t_train, t_test = train_test_split(F, T, test_size = 0.2)\n",
    "print(f_train.shape)\n",
    "print(f_test.shape)\n",
    "print(t_train.shape)\n",
    "print(t_test.shape)"
   ]
  },
  {
   "cell_type": "markdown",
   "id": "692c746d-8289-4a2d-8aec-19b1556336b2",
   "metadata": {},
   "source": [
    "### DecisionTreeRegressor Model"
   ]
  },
  {
   "cell_type": "code",
   "execution_count": 501,
   "id": "80c35d2b-679a-4a8e-b9e8-4a34d70ee626",
   "metadata": {},
   "outputs": [],
   "source": [
    "# create a decision tree regressor model\n",
    "tree = DecisionTreeRegressor().fit(f_train.reshape(-1, 1), t_train.reshape(-1,1))"
   ]
  },
  {
   "cell_type": "markdown",
   "id": "93de1eab-d323-47de-a3ae-62adad018069",
   "metadata": {},
   "source": [
    "### LinearRegression Model"
   ]
  },
  {
   "cell_type": "code",
   "execution_count": 502,
   "id": "940d0405-7625-466c-8b72-cabef608f0d3",
   "metadata": {},
   "outputs": [],
   "source": [
    "# create a Linear Regression model\n",
    "lr = LinearRegression().fit(f_train, t_train)"
   ]
  },
  {
   "cell_type": "markdown",
   "id": "26d02c64-efab-40b0-add5-cbf1b610295e",
   "metadata": {},
   "source": [
    "- **The future data set**"
   ]
  },
  {
   "cell_type": "code",
   "execution_count": 503,
   "id": "cf40cfe9-31ee-48ba-9c29-12919d13d40f",
   "metadata": {},
   "outputs": [
    {
     "name": "stderr",
     "output_type": "stream",
     "text": [
      "/tmp/ipykernel_56984/2751072338.py:1: FutureWarning: In a future version of pandas all arguments of DataFrame.drop except for the argument 'labels' will be keyword-only.\n",
      "  n_future = df.drop(['Pridiction'], 1)[:-future_days]\n"
     ]
    },
    {
     "data": {
      "text/plain": [
       "array([[ 59.11325836],\n",
       "       [ 59.94732285],\n",
       "       [ 59.71027374],\n",
       "       ...,\n",
       "       [118.83000183],\n",
       "       [117.52999878],\n",
       "       [117.38999939]])"
      ]
     },
     "execution_count": 503,
     "metadata": {},
     "output_type": "execute_result"
    }
   ],
   "source": [
    "n_future = df.drop(['Pridiction'], 1)[:-future_days]\n",
    "n_future = n_future.tail(future_days)\n",
    "n_future = np.array(n_future)\n",
    "n_future"
   ]
  },
  {
   "cell_type": "markdown",
   "id": "05e41040-e962-43d2-8736-2ee2b0abd0a8",
   "metadata": {},
   "source": [
    "## Using of Model"
   ]
  },
  {
   "cell_type": "markdown",
   "id": "272157b6-b24c-41bc-b3fb-378096c41363",
   "metadata": {},
   "source": [
    "- **using the treeRegressor model**"
   ]
  },
  {
   "cell_type": "code",
   "execution_count": 504,
   "id": "3fca4efe-5843-452e-9c22-8ef562c1d3db",
   "metadata": {},
   "outputs": [
    {
     "name": "stdout",
     "output_type": "stream",
     "text": [
      "[116.09999847 116.48000336 117.16000366 ... 260.04998779 257.20001221\n",
      " 218.17999268]\n"
     ]
    }
   ],
   "source": [
    "# tree pridictin\n",
    "tree_pridiction = tree.predict(n_future);\n",
    "print(tree_pridiction)"
   ]
  },
  {
   "cell_type": "markdown",
   "id": "931fdf77-db15-494b-95f3-852d47b3948c",
   "metadata": {},
   "source": [
    "- **using the linearRegression**"
   ]
  },
  {
   "cell_type": "code",
   "execution_count": 505,
   "id": "71789f74-76fa-45a7-b33b-ddc4fb21acbd",
   "metadata": {},
   "outputs": [
    {
     "name": "stdout",
     "output_type": "stream",
     "text": [
      "[107.60728733 109.18429583 108.73609493 ... 220.51679734 218.05881488\n",
      " 217.79411086]\n"
     ]
    }
   ],
   "source": [
    "# linear pridiction\n",
    "lr_pridiction = lr.predict(n_future)\n",
    "print(lr_pridiction)"
   ]
  },
  {
   "cell_type": "markdown",
   "id": "fc55a062-1655-4dd1-86b1-af5356bd2c1d",
   "metadata": {},
   "source": [
    "## visualiziing the data pridicted"
   ]
  },
  {
   "cell_type": "markdown",
   "id": "a92c029e-bf1f-45d6-a359-5cc6170a953a",
   "metadata": {},
   "source": [
    "- **Decission Tree validated data show**"
   ]
  },
  {
   "cell_type": "code",
   "execution_count": 506,
   "id": "8f5e63c0-0f16-4972-8010-49b0c24f8481",
   "metadata": {},
   "outputs": [
    {
     "name": "stderr",
     "output_type": "stream",
     "text": [
      "/tmp/ipykernel_56984/3937054636.py:6: SettingWithCopyWarning: \n",
      "A value is trying to be set on a copy of a slice from a DataFrame.\n",
      "Try using .loc[row_indexer,col_indexer] = value instead\n",
      "\n",
      "See the caveats in the documentation: https://pandas.pydata.org/pandas-docs/stable/user_guide/indexing.html#returning-a-view-versus-a-copy\n",
      "  valid['Pridictions'] = pridictions # add a new column to the valid that predicted in the decission tree regressor\n"
     ]
    },
    {
     "data": {
      "image/png": "[encoded data removed]",
      "text/plain": [
       "<Figure size 1600x800 with 1 Axes>"
      ]
     },
     "metadata": {},
     "output_type": "display_data"
    }
   ],
   "source": [
    "# visualizing the decission tree regressor pridiction how are fiting to the actual data.\n",
    "\n",
    "pridictions = tree_pridiction\n",
    "\n",
    "valid = df[F.shape[0]:] # copy all valid data on the valid.\n",
    "valid['Pridictions'] = pridictions # add a new column to the valid that predicted in the decission tree regressor\n",
    "\n",
    "# creating the figure to plot.\n",
    "plt.figure(figsize = (16, 8))\n",
    "plt.title('Decission Tree Regressor Model')\n",
    "plt.xlabel('Days')\n",
    "plt.ylabel('Close Price USD$(M)')\n",
    "plt.plot(df['Close'])\n",
    "plt.plot(valid[['Close', 'Pridictions']])\n",
    "plt.legend(['Original', 'validation', 'Pridicted'])\n",
    "plt.show()"
   ]
  },
  {
   "cell_type": "markdown",
   "id": "d8d16547-b504-40ba-94cb-663303599edc",
   "metadata": {},
   "source": [
    "- **linear regression validated Data show**"
   ]
  },
  {
   "cell_type": "code",
   "execution_count": 507,
   "id": "50e31ec7-2026-404a-a639-89488a56788f",
   "metadata": {},
   "outputs": [
    {
     "name": "stderr",
     "output_type": "stream",
     "text": [
      "/tmp/ipykernel_56984/2295819298.py:6: SettingWithCopyWarning: \n",
      "A value is trying to be set on a copy of a slice from a DataFrame.\n",
      "Try using .loc[row_indexer,col_indexer] = value instead\n",
      "\n",
      "See the caveats in the documentation: https://pandas.pydata.org/pandas-docs/stable/user_guide/indexing.html#returning-a-view-versus-a-copy\n",
      "  valid['Pridictions'] = pridictions # add a new column to the valid that predicted in the decission tree regressor\n"
     ]
    },
    {
     "data": {
      "image/png": "[encoded data removed]",
      "text/plain": [
       "<Figure size 1600x800 with 1 Axes>"
      ]
     },
     "metadata": {},
     "output_type": "display_data"
    }
   ],
   "source": [
    "# visualizing the linear regression pridiction how are fiting to the actual data.\n",
    "\n",
    "pridictions = lr_pridiction\n",
    "\n",
    "valid = df[F.shape[0]:] # copy all valid data on the valid.\n",
    "valid['Pridictions'] = pridictions # add a new column to the valid that predicted in the decission tree regressor\n",
    "\n",
    "# creating the figure to plot.\n",
    "plt.figure(figsize = (16, 8))\n",
    "plt.title('Decission Tree Regressor Model')\n",
    "plt.xlabel('Days')\n",
    "plt.ylabel('Close Price USD$(M)')\n",
    "plt.plot(df['Close'])\n",
    "plt.plot(valid[['Close', 'Pridictions']])\n",
    "plt.legend(['Original', 'validation', 'Pridicted'])\n",
    "plt.show()"
   ]
  },
  {
   "cell_type": "markdown",
   "id": "31b8dcc5-0b9f-4ac2-9789-1c29698980a3",
   "metadata": {},
   "source": [
    "# Stock Market buy and sell classification"
   ]
  },
  {
   "cell_type": "code",
   "execution_count": 748,
   "id": "d7ddf91e-3475-45bb-9842-3ba100f76e14",
   "metadata": {},
   "outputs": [
    {
     "data": {
      "text/html": [
       "<div>\n",
       "<style scoped>\n",
       "    .dataframe tbody tr th:only-of-type {\n",
       "        vertical-align: middle;\n",
       "    }\n",
       "\n",
       "    .dataframe tbody tr th {\n",
       "        vertical-align: top;\n",
       "    }\n",
       "\n",
       "    .dataframe thead th {\n",
       "        text-align: right;\n",
       "    }\n",
       "</style>\n",
       "<table border=\"1\" class=\"dataframe\">\n",
       "  <thead>\n",
       "    <tr style=\"text-align: right;\">\n",
       "      <th></th>\n",
       "      <th>Date</th>\n",
       "      <th>Day</th>\n",
       "      <th>Month</th>\n",
       "      <th>Year</th>\n",
       "      <th>Low</th>\n",
       "      <th>Open</th>\n",
       "      <th>Volume</th>\n",
       "      <th>High</th>\n",
       "      <th>Close</th>\n",
       "      <th>Adjusted Close</th>\n",
       "      <th>Return</th>\n",
       "    </tr>\n",
       "  </thead>\n",
       "  <tbody>\n",
       "    <tr>\n",
       "      <th>0</th>\n",
       "      <td>1980-03-17</td>\n",
       "      <td>17</td>\n",
       "      <td>3</td>\n",
       "      <td>1980</td>\n",
       "      <td>0.808554</td>\n",
       "      <td>0.0</td>\n",
       "      <td>1158040</td>\n",
       "      <td>0.827141</td>\n",
       "      <td>0.817847</td>\n",
       "      <td>0.418825</td>\n",
       "      <td>0.344699</td>\n",
       "    </tr>\n",
       "    <tr>\n",
       "      <th>1</th>\n",
       "      <td>1980-03-18</td>\n",
       "      <td>18</td>\n",
       "      <td>3</td>\n",
       "      <td>1980</td>\n",
       "      <td>0.814749</td>\n",
       "      <td>0.0</td>\n",
       "      <td>1622063</td>\n",
       "      <td>0.830239</td>\n",
       "      <td>0.827141</td>\n",
       "      <td>0.423584</td>\n",
       "      <td>0.337080</td>\n",
       "    </tr>\n",
       "    <tr>\n",
       "      <th>2</th>\n",
       "      <td>1980-03-19</td>\n",
       "      <td>19</td>\n",
       "      <td>3</td>\n",
       "      <td>1980</td>\n",
       "      <td>0.827141</td>\n",
       "      <td>0.0</td>\n",
       "      <td>1367859</td>\n",
       "      <td>0.842631</td>\n",
       "      <td>0.842631</td>\n",
       "      <td>0.431517</td>\n",
       "      <td>0.305148</td>\n",
       "    </tr>\n",
       "    <tr>\n",
       "      <th>3</th>\n",
       "      <td>1980-03-20</td>\n",
       "      <td>20</td>\n",
       "      <td>3</td>\n",
       "      <td>1980</td>\n",
       "      <td>0.839533</td>\n",
       "      <td>0.0</td>\n",
       "      <td>3046412</td>\n",
       "      <td>0.861218</td>\n",
       "      <td>0.839533</td>\n",
       "      <td>0.429931</td>\n",
       "      <td>0.302583</td>\n",
       "    </tr>\n",
       "    <tr>\n",
       "      <th>4</th>\n",
       "      <td>1980-03-21</td>\n",
       "      <td>21</td>\n",
       "      <td>3</td>\n",
       "      <td>1980</td>\n",
       "      <td>0.836435</td>\n",
       "      <td>0.0</td>\n",
       "      <td>1020851</td>\n",
       "      <td>0.848826</td>\n",
       "      <td>0.836435</td>\n",
       "      <td>0.428344</td>\n",
       "      <td>0.311110</td>\n",
       "    </tr>\n",
       "  </tbody>\n",
       "</table>\n",
       "</div>"
      ],
      "text/plain": [
       "        Date  Day  Month  Year       Low  Open   Volume      High     Close  \\\n",
       "0 1980-03-17   17      3  1980  0.808554   0.0  1158040  0.827141  0.817847   \n",
       "1 1980-03-18   18      3  1980  0.814749   0.0  1622063  0.830239  0.827141   \n",
       "2 1980-03-19   19      3  1980  0.827141   0.0  1367859  0.842631  0.842631   \n",
       "3 1980-03-20   20      3  1980  0.839533   0.0  3046412  0.861218  0.839533   \n",
       "4 1980-03-21   21      3  1980  0.836435   0.0  1020851  0.848826  0.836435   \n",
       "\n",
       "   Adjusted Close    Return  \n",
       "0        0.418825  0.344699  \n",
       "1        0.423584  0.337080  \n",
       "2        0.431517  0.305148  \n",
       "3        0.429931  0.302583  \n",
       "4        0.428344  0.311110  "
      ]
     },
     "execution_count": 748,
     "metadata": {},
     "output_type": "execute_result"
    }
   ],
   "source": [
    "# Pre-proccessed DataFrame \n",
    "Pdf.head()"
   ]
  },
  {
   "cell_type": "markdown",
   "id": "105e0123-f9e5-48a4-9f47-2b862d7b734c",
   "metadata": {},
   "source": [
    "### using a binarry classification\n",
    "- buy or sell singnal.\n",
    "- based on the returns of the days percentage.\n",
    "- sell = (1), buy = (0) singnal."
   ]
  },
  {
   "cell_type": "code",
   "execution_count": 749,
   "id": "2549641a-c6f1-45e4-b013-c785f8fecb3c",
   "metadata": {},
   "outputs": [
    {
     "data": {
      "text/html": [
       "<div>\n",
       "<style scoped>\n",
       "    .dataframe tbody tr th:only-of-type {\n",
       "        vertical-align: middle;\n",
       "    }\n",
       "\n",
       "    .dataframe tbody tr th {\n",
       "        vertical-align: top;\n",
       "    }\n",
       "\n",
       "    .dataframe thead th {\n",
       "        text-align: right;\n",
       "    }\n",
       "</style>\n",
       "<table border=\"1\" class=\"dataframe\">\n",
       "  <thead>\n",
       "    <tr style=\"text-align: right;\">\n",
       "      <th></th>\n",
       "      <th>Day</th>\n",
       "      <th>Month</th>\n",
       "      <th>Year</th>\n",
       "      <th>Low</th>\n",
       "      <th>Low</th>\n",
       "      <th>Volume</th>\n",
       "      <th>High</th>\n",
       "      <th>Close</th>\n",
       "      <th>Adjusted Close</th>\n",
       "    </tr>\n",
       "  </thead>\n",
       "  <tbody>\n",
       "    <tr>\n",
       "      <th>10773</th>\n",
       "      <td>12</td>\n",
       "      <td>6</td>\n",
       "      <td>2022</td>\n",
       "      <td>257.049988</td>\n",
       "      <td>257.049988</td>\n",
       "      <td>1371300</td>\n",
       "      <td>264.670013</td>\n",
       "      <td>258.529999</td>\n",
       "      <td>257.283325</td>\n",
       "    </tr>\n",
       "    <tr>\n",
       "      <th>10774</th>\n",
       "      <td>12</td>\n",
       "      <td>7</td>\n",
       "      <td>2022</td>\n",
       "      <td>257.329987</td>\n",
       "      <td>257.329987</td>\n",
       "      <td>1265500</td>\n",
       "      <td>259.809998</td>\n",
       "      <td>259.220001</td>\n",
       "      <td>257.970001</td>\n",
       "    </tr>\n",
       "    <tr>\n",
       "      <th>10775</th>\n",
       "      <td>12</td>\n",
       "      <td>8</td>\n",
       "      <td>2022</td>\n",
       "      <td>258.200012</td>\n",
       "      <td>258.200012</td>\n",
       "      <td>1197200</td>\n",
       "      <td>261.019989</td>\n",
       "      <td>260.049988</td>\n",
       "      <td>260.049988</td>\n",
       "    </tr>\n",
       "    <tr>\n",
       "      <th>10776</th>\n",
       "      <td>12</td>\n",
       "      <td>9</td>\n",
       "      <td>2022</td>\n",
       "      <td>256.950012</td>\n",
       "      <td>256.950012</td>\n",
       "      <td>1991400</td>\n",
       "      <td>260.380005</td>\n",
       "      <td>257.200012</td>\n",
       "      <td>257.200012</td>\n",
       "    </tr>\n",
       "    <tr>\n",
       "      <th>10777</th>\n",
       "      <td>12</td>\n",
       "      <td>12</td>\n",
       "      <td>2022</td>\n",
       "      <td>257.459991</td>\n",
       "      <td>257.459991</td>\n",
       "      <td>209618</td>\n",
       "      <td>261.769989</td>\n",
       "      <td>261.234985</td>\n",
       "      <td>261.234985</td>\n",
       "    </tr>\n",
       "  </tbody>\n",
       "</table>\n",
       "</div>"
      ],
      "text/plain": [
       "       Day  Month  Year         Low         Low   Volume        High  \\\n",
       "10773   12      6  2022  257.049988  257.049988  1371300  264.670013   \n",
       "10774   12      7  2022  257.329987  257.329987  1265500  259.809998   \n",
       "10775   12      8  2022  258.200012  258.200012  1197200  261.019989   \n",
       "10776   12      9  2022  256.950012  256.950012  1991400  260.380005   \n",
       "10777   12     12  2022  257.459991  257.459991   209618  261.769989   \n",
       "\n",
       "            Close  Adjusted Close  \n",
       "10773  258.529999      257.283325  \n",
       "10774  259.220001      257.970001  \n",
       "10775  260.049988      260.049988  \n",
       "10776  257.200012      257.200012  \n",
       "10777  261.234985      261.234985  "
      ]
     },
     "execution_count": 749,
     "metadata": {},
     "output_type": "execute_result"
    }
   ],
   "source": [
    "# a new column 'Return' in the regarding of Adjusted Close Price\n",
    "Pdf['Return'] = Pdf['Adjusted Close'].pct_change(90).shift(-90) # 90 days\n",
    "# create the list of features fot the classification.\n",
    "feature = ['Day', 'Month', 'Year', 'Low', 'Low', 'Volume', 'High', 'Close', 'Adjusted Close']\n",
    "# populate the data set with features in 'x' variable\n",
    "x = Pdf[feature]\n",
    "x.tail()"
   ]
  },
  {
   "cell_type": "code",
   "execution_count": 750,
   "id": "02c73f16-9a7b-4202-a2ea-7534cbf9205c",
   "metadata": {},
   "outputs": [
    {
     "name": "stdout",
     "output_type": "stream",
     "text": [
      "[1 1 1 ... 0 0 0]\n"
     ]
    }
   ],
   "source": [
    "# populate the buy sell signal in the condition in the 'y' variable\n",
    "y = np.where(Pdf.Return > 0, 1, 0)\n",
    "print(y)"
   ]
  },
  {
   "cell_type": "code",
   "execution_count": 751,
   "id": "51b03531-8e2f-4cb0-bff5-652ead7cac60",
   "metadata": {},
   "outputs": [
    {
     "name": "stdout",
     "output_type": "stream",
     "text": [
      "(7544, 9)\n",
      "(3234, 9)\n",
      "(7544,)\n",
      "(3234,)\n"
     ]
    }
   ],
   "source": [
    "# split the data for training and testing\n",
    "x_train, x_test, y_train, y_test = train_test_split(x, y, test_size=0.3, random_state=550)\n",
    "print(x_train.shape)\n",
    "print(x_test.shape)\n",
    "print(y_train.shape)\n",
    "print(y_test.shape)"
   ]
  },
  {
   "cell_type": "markdown",
   "id": "4e518bd0-0de5-404d-be77-17897655e120",
   "metadata": {},
   "source": [
    "### **Decision Tree Classifier**"
   ]
  },
  {
   "cell_type": "code",
   "execution_count": 752,
   "id": "2188ebf3-5d9f-4d18-b915-e03aca58fef4",
   "metadata": {},
   "outputs": [
    {
     "data": {
      "text/html": [
       "<style>#sk-container-id-34 {color: black;background-color: white;}#sk-container-id-34 pre{padding: 0;}#sk-container-id-34 div.sk-toggleable {background-color: white;}#sk-container-id-34 label.sk-toggleable__label {cursor: pointer;display: block;width: 100%;margin-bottom: 0;padding: 0.3em;box-sizing: border-box;text-align: center;}#sk-container-id-34 label.sk-toggleable__label-arrow:before {content: \"▸\";float: left;margin-right: 0.25em;color: #696969;}#sk-container-id-34 label.sk-toggleable__label-arrow:hover:before {color: black;}#sk-container-id-34 div.sk-estimator:hover label.sk-toggleable__label-arrow:before {color: black;}#sk-container-id-34 div.sk-toggleable__content {max-height: 0;max-width: 0;overflow: hidden;text-align: left;background-color: #f0f8ff;}#sk-container-id-34 div.sk-toggleable__content pre {margin: 0.2em;color: black;border-radius: 0.25em;background-color: #f0f8ff;}#sk-container-id-34 input.sk-toggleable__control:checked~div.sk-toggleable__content {max-height: 200px;max-width: 100%;overflow: auto;}#sk-container-id-34 input.sk-toggleable__control:checked~label.sk-toggleable__label-arrow:before {content: \"▾\";}#sk-container-id-34 div.sk-estimator input.sk-toggleable__control:checked~label.sk-toggleable__label {background-color: #d4ebff;}#sk-container-id-34 div.sk-label input.sk-toggleable__control:checked~label.sk-toggleable__label {background-color: #d4ebff;}#sk-container-id-34 input.sk-hidden--visually {border: 0;clip: rect(1px 1px 1px 1px);clip: rect(1px, 1px, 1px, 1px);height: 1px;margin: -1px;overflow: hidden;padding: 0;position: absolute;width: 1px;}#sk-container-id-34 div.sk-estimator {font-family: monospace;background-color: #f0f8ff;border: 1px dotted black;border-radius: 0.25em;box-sizing: border-box;margin-bottom: 0.5em;}#sk-container-id-34 div.sk-estimator:hover {background-color: #d4ebff;}#sk-container-id-34 div.sk-parallel-item::after {content: \"\";width: 100%;border-bottom: 1px solid gray;flex-grow: 1;}#sk-container-id-34 div.sk-label:hover label.sk-toggleable__label {background-color: #d4ebff;}#sk-container-id-34 div.sk-serial::before {content: \"\";position: absolute;border-left: 1px solid gray;box-sizing: border-box;top: 0;bottom: 0;left: 50%;z-index: 0;}#sk-container-id-34 div.sk-serial {display: flex;flex-direction: column;align-items: center;background-color: white;padding-right: 0.2em;padding-left: 0.2em;position: relative;}#sk-container-id-34 div.sk-item {position: relative;z-index: 1;}#sk-container-id-34 div.sk-parallel {display: flex;align-items: stretch;justify-content: center;background-color: white;position: relative;}#sk-container-id-34 div.sk-item::before, #sk-container-id-34 div.sk-parallel-item::before {content: \"\";position: absolute;border-left: 1px solid gray;box-sizing: border-box;top: 0;bottom: 0;left: 50%;z-index: -1;}#sk-container-id-34 div.sk-parallel-item {display: flex;flex-direction: column;z-index: 1;position: relative;background-color: white;}#sk-container-id-34 div.sk-parallel-item:first-child::after {align-self: flex-end;width: 50%;}#sk-container-id-34 div.sk-parallel-item:last-child::after {align-self: flex-start;width: 50%;}#sk-container-id-34 div.sk-parallel-item:only-child::after {width: 0;}#sk-container-id-34 div.sk-dashed-wrapped {border: 1px dashed gray;margin: 0 0.4em 0.5em 0.4em;box-sizing: border-box;padding-bottom: 0.4em;background-color: white;}#sk-container-id-34 div.sk-label label {font-family: monospace;font-weight: bold;display: inline-block;line-height: 1.2em;}#sk-container-id-34 div.sk-label-container {text-align: center;}#sk-container-id-34 div.sk-container {/* jupyter's `normalize.less` sets `[hidden] { display: none; }` but bootstrap.min.css set `[hidden] { display: none !important; }` so we also need the `!important` here to be able to override the default hidden behavior on the sphinx rendered scikit-learn.org. See: https://github.com/scikit-learn/scikit-learn/issues/21755 */display: inline-block !important;position: relative;}#sk-container-id-34 div.sk-text-repr-fallback {display: none;}</style><div id=\"sk-container-id-34\" class=\"sk-top-container\"><div class=\"sk-text-repr-fallback\"><pre>DecisionTreeClassifier(max_depth=20, min_samples_leaf=5)</pre><b>In a Jupyter environment, please rerun this cell to show the HTML representation or trust the notebook. <br />On GitHub, the HTML representation is unable to render, please try loading this page with nbviewer.org.</b></div><div class=\"sk-container\" hidden><div class=\"sk-item\"><div class=\"sk-estimator sk-toggleable\"><input class=\"sk-toggleable__control sk-hidden--visually\" id=\"sk-estimator-id-34\" type=\"checkbox\" checked><label for=\"sk-estimator-id-34\" class=\"sk-toggleable__label sk-toggleable__label-arrow\">DecisionTreeClassifier</label><div class=\"sk-toggleable__content\"><pre>DecisionTreeClassifier(max_depth=20, min_samples_leaf=5)</pre></div></div></div></div></div>"
      ],
      "text/plain": [
       "DecisionTreeClassifier(max_depth=20, min_samples_leaf=5)"
      ]
     },
     "execution_count": 752,
     "metadata": {},
     "output_type": "execute_result"
    }
   ],
   "source": [
    "# Decision Tree classifier\n",
    "treeClassifier = DecisionTreeClassifier(max_depth=20, min_samples_leaf=5)\n",
    "treeClassifier.fit(x_train, y_train)"
   ]
  },
  {
   "cell_type": "code",
   "execution_count": 753,
   "id": "dd4e9e45-37e9-4d44-9389-4bf80a331c43",
   "metadata": {},
   "outputs": [],
   "source": [
    "# predictions classes using x_test data\n",
    "y_pred = treeClassifier.predict(x_test)"
   ]
  },
  {
   "cell_type": "markdown",
   "id": "2be8c9c5-d881-41ce-b5f9-cf35bb10af1c",
   "metadata": {},
   "source": [
    "### **Performance**"
   ]
  },
  {
   "cell_type": "code",
   "execution_count": 754,
   "id": "457c6a77-80b3-4a65-ae75-751d3fed683e",
   "metadata": {},
   "outputs": [
    {
     "name": "stdout",
     "output_type": "stream",
     "text": [
      "              precision    recall  f1-score   support\n",
      "\n",
      "           0       0.81      0.82      0.81       948\n",
      "           1       0.92      0.92      0.92      2286\n",
      "\n",
      "    accuracy                           0.89      3234\n",
      "   macro avg       0.87      0.87      0.87      3234\n",
      "weighted avg       0.89      0.89      0.89      3234\n",
      "\n"
     ]
    }
   ],
   "source": [
    "# checking the performance of the pridicted classes\n",
    "report = classification_report(y_test, y_pred)\n",
    "print(report)"
   ]
  }
 ],
 "metadata": {
  "kernelspec": {
   "display_name": "Python 3 (ipykernel)",
   "language": "python",
   "name": "python3"
  },
  "language_info": {
   "codemirror_mode": {
    "name": "ipython",
    "version": 3
   },
   "file_extension": ".py",
   "mimetype": "text/x-python",
   "name": "python",
   "nbconvert_exporter": "python",
   "pygments_lexer": "ipython3",
   "version": "3.10.7"
  }
 },
 "nbformat": 4,
 "nbformat_minor": 5
}
